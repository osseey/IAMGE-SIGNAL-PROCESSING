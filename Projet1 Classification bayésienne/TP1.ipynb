{
 "cells": [
  {
   "cell_type": "code",
   "execution_count": null,
   "id": "844e4483-6703-48ce-99cc-a2127603d874",
   "metadata": {},
   "outputs": [],
   "source": [
    "import math\n",
    "import numpy as np\n",
    "from sklearn import linear_model\n",
    "from os import mkdir\n",
    "import random\n",
    "import pandas as pd\n",
    "import matplotlib.pyplot as plt"
   ]
  },
  {
   "cell_type": "code",
   "execution_count": null,
   "id": "a9c85fc7-36bc-4bff-9238-56b8f7854b1d",
   "metadata": {},
   "outputs": [],
   "source": [
    "# 1.1\n",
    "def nextpower(n):\n",
    "    x = 0\n",
    "    if int(math.sqrt(n))**2 < n:\n",
    "        x = math.sqrt(n)+1\n",
    "    else :\n",
    "        x = math.sqrt(n)\n",
    "    return int(x);"
   ]
  },
  {
   "cell_type": "code",
   "execution_count": null,
   "id": "213a8c51-65ec-403c-80e8-414d0af27985",
   "metadata": {},
   "outputs": [],
   "source": [
    "x = nextpower(26)\n",
    "print(x)"
   ]
  },
  {
   "cell_type": "code",
   "execution_count": null,
   "id": "55600c42-6add-4418-894b-afda0abaecd0",
   "metadata": {},
   "outputs": [],
   "source": [
    "# 1.2\n",
    "alpha = \"ABCDEFGHIJKLMNOPQRSTUVWXYZ\"\n",
    "print(alpha[2::3])"
   ]
  },
  {
   "cell_type": "code",
   "execution_count": null,
   "id": "2abbd018-cc34-4002-bd65-b3857fd60a63",
   "metadata": {},
   "outputs": [],
   "source": [
    "print(alpha[-5::2])"
   ]
  },
  {
   "cell_type": "code",
   "execution_count": null,
   "id": "d73e8086-087d-479f-b03c-f8a44425055d",
   "metadata": {},
   "outputs": [],
   "source": [
    "print(alpha[21::2])"
   ]
  },
  {
   "cell_type": "code",
   "execution_count": null,
   "id": "3990806c-32c9-4e14-829a-90b894154f40",
   "metadata": {},
   "outputs": [],
   "source": [
    "# 1.3\n",
    "print(\"{:,.9f}\".format(math.pi))"
   ]
  },
  {
   "cell_type": "code",
   "execution_count": null,
   "id": "83e2ddd3-9265-4011-bc02-cbe550b4e4d2",
   "metadata": {},
   "outputs": [],
   "source": [
    "# 1.4\n",
    "def create_dict(s):\n",
    "    dic = dict()\n",
    "    for c in s:\n",
    "        if c in dic:\n",
    "            dic[c] += 1\n",
    "        else :\n",
    "            dic[c] = 1\n",
    "    return dic"
   ]
  },
  {
   "cell_type": "code",
   "execution_count": null,
   "id": "57192b2f-d174-42c4-bb9e-c20819e4d617",
   "metadata": {},
   "outputs": [],
   "source": [
    "s=\"HelLo WorLd!!\"\n",
    "res = create_dict(s)\n",
    "print(res)"
   ]
  },
  {
   "cell_type": "code",
   "execution_count": null,
   "id": "f2ceb4d0-40e5-4d32-a0e3-3bc1f929f56f",
   "metadata": {},
   "outputs": [],
   "source": [
    "# 1.5\n",
    "def cesar_code(s):\n",
    "    alpha = list(\"ABCDEFGHIJKLMNOPQRSTUVWXYZ\")\n",
    "    code = list(\"ABCDEFGHIJKLMNOPQRSTUVWXYZ\")\n",
    "    random.shuffle(code)\n",
    "    dic = dict()\n",
    "    for key, value in zip(alpha, code):\n",
    "        dic[key] = value\n",
    "    result = \"\"\n",
    "    for letter in s:\n",
    "        result += dic.get(letter.upper())\n",
    "    return result"
   ]
  },
  {
   "cell_type": "code",
   "execution_count": null,
   "id": "321097d0-6d0d-43bb-8039-5bef0318481e",
   "metadata": {},
   "outputs": [],
   "source": [
    "c = cesar_code(\"coucou\")\n",
    "print(c)"
   ]
  },
  {
   "cell_type": "code",
   "execution_count": null,
   "id": "1a0d120e-d91f-4d2a-8df5-ce3fb9f3b9b5",
   "metadata": {},
   "outputs": [],
   "source": [
    "# 1.6\n",
    "def calcul(n):\n",
    "    result = 1\n",
    "    for k in range(1,n):\n",
    "        result *= 4*(k**2) / (4*(k**2) - 1)\n",
    "    return 2*result"
   ]
  },
  {
   "cell_type": "code",
   "execution_count": null,
   "id": "b3b70859-302f-436b-b404-1d25774b9cbb",
   "metadata": {},
   "outputs": [],
   "source": [
    "%timeit calcul(4000)"
   ]
  },
  {
   "cell_type": "code",
   "execution_count": null,
   "id": "f0a9acb0-9ac2-41c9-8b27-3d23b5eeeb1e",
   "metadata": {},
   "outputs": [],
   "source": [
    "def calcul2(n):\n",
    "    liste = np.arange(1, n) \n",
    "    m = np.multiply(np.power(liste,2), 4)\n",
    "    d = np.multiply(np.power(liste,2), 4) - 1\n",
    "    liste = np.divide(m, d)\n",
    "    return 2 * np.product(liste)"
   ]
  },
  {
   "cell_type": "code",
   "execution_count": null,
   "id": "81a18746-c25b-4c4f-9cb7-44fc645ccf2e",
   "metadata": {},
   "outputs": [],
   "source": [
    "%timeit calcul2(4000)"
   ]
  },
  {
   "cell_type": "code",
   "execution_count": null,
   "id": "f3f52bdd-90f2-4931-bc69-910ddb607825",
   "metadata": {},
   "outputs": [],
   "source": [
    "print(calcul(4000))\n",
    "print(calcul2(4000))"
   ]
  },
  {
   "cell_type": "code",
   "execution_count": null,
   "id": "5d79244c-b988-4538-b764-8694e8957cd5",
   "metadata": {},
   "outputs": [],
   "source": [
    "# 1.7\n",
    "def quicksort(ll):\n",
    "    \"\"\" a sorting algorithm with a pivot value\"\"\"\n",
    "    if len(ll) <= 1:\n",
    "        return ll\n",
    "    else:\n",
    "        # pivot = last element of the list ll.\n",
    "        pivot = ll.pop()\n",
    "        less = []\n",
    "        greater = []\n",
    "        for x in ll:\n",
    "            if x <= pivot:\n",
    "                # append 'x' to 'less'\n",
    "                less.append(x)\n",
    "            else:\n",
    "                # append 'x' to 'greater'\n",
    "                greater.append(x)\n",
    "        # concatenate quicksort(less), pivot and quicksort(greater)\n",
    "        return quicksort(less) + [pivot] + quicksort(greater)"
   ]
  },
  {
   "cell_type": "code",
   "execution_count": null,
   "id": "9dd6fc86-6bbb-4f43-a6b4-23755cbd7ee6",
   "metadata": {},
   "outputs": [],
   "source": [
    "quicksort([-2, 3, 5, 1, 3])"
   ]
  },
  {
   "cell_type": "code",
   "execution_count": null,
   "id": "716bd530-95ce-42cd-827a-c938086302b3",
   "metadata": {},
   "outputs": [],
   "source": [
    "# 1.8\n",
    "mat = np.random.uniform(-1,1,(5,6))\n",
    "mat"
   ]
  },
  {
   "cell_type": "code",
   "execution_count": null,
   "id": "9979d545-f64e-4070-8a14-5d2762703dd2",
   "metadata": {},
   "outputs": [],
   "source": [
    "mat[:, ::2] -= mat[:, 1::2]*2"
   ]
  },
  {
   "cell_type": "code",
   "execution_count": null,
   "id": "4506117a-d5e6-4dc7-a555-5871fe74321a",
   "metadata": {},
   "outputs": [],
   "source": [
    "mat"
   ]
  },
  {
   "cell_type": "code",
   "execution_count": null,
   "id": "e13ae751-259c-4608-ae3a-cab1a2844804",
   "metadata": {},
   "outputs": [],
   "source": [
    "mask = mat < 0\n",
    "mask"
   ]
  },
  {
   "cell_type": "code",
   "execution_count": null,
   "id": "26b98380-7332-417c-9e57-e725ab81d7a8",
   "metadata": {},
   "outputs": [],
   "source": [
    "mat[mask]=0\n",
    "mat"
   ]
  },
  {
   "cell_type": "code",
   "execution_count": null,
   "id": "5b7d0e88-83da-42fd-bb9d-7bdc244c4cc9",
   "metadata": {},
   "outputs": [],
   "source": [
    "# 1.9\n",
    "M = np.random.uniform(-1,1,(5,20))\n",
    "M"
   ]
  },
  {
   "cell_type": "code",
   "execution_count": null,
   "id": "e04cf198-06f9-4e6d-8940-7256fdffa272",
   "metadata": {},
   "outputs": [],
   "source": [
    "G = np.dot(M.T,M)\n",
    "G"
   ]
  },
  {
   "cell_type": "code",
   "execution_count": null,
   "id": "aac9549b-a007-4e5d-8df2-19d3b78d97eb",
   "metadata": {},
   "outputs": [],
   "source": [
    "#Symtric\n",
    "np.allclose(G, G.T)"
   ]
  },
  {
   "cell_type": "code",
   "execution_count": null,
   "id": "faab7f69-2c49-4b46-b940-504a71ae011c",
   "metadata": {},
   "outputs": [],
   "source": [
    "#Valeur propres sont positives ou nulles\n",
    "sum([i for i in np.linalg.eigvals(G).round()])>0"
   ]
  },
  {
   "cell_type": "code",
   "execution_count": null,
   "id": "d06a1512-054e-430e-abbc-37351c60420f",
   "metadata": {},
   "outputs": [],
   "source": [
    "np.linalg.matrix_rank(G)"
   ]
  },
  {
   "cell_type": "code",
   "execution_count": null,
   "id": "261fc015-c368-45e9-b177-8d728e97c7e1",
   "metadata": {},
   "outputs": [],
   "source": [
    "# 2.1\n",
    "df = pd.read_csv(\"./GaltonsHeightData.csv\")\n",
    "df.Height = np.round(df.Height * 2.54)\n",
    "df.Height = df.Height.astype(int)\n",
    "df.Father = np.round(df.Father * 2.54)\n",
    "df.Father = df.Father.astype(int)\n",
    "df.Mother = np.round(df.Mother * 2.54)\n",
    "df.Mother = df.Mother.astype(int)\n",
    "df"
   ]
  },
  {
   "cell_type": "code",
   "execution_count": null,
   "id": "b8e20740-9ba7-4c1f-b685-07b191d76c5a",
   "metadata": {},
   "outputs": [],
   "source": [
    "#verification\n",
    "df.isna().value_counts()"
   ]
  },
  {
   "cell_type": "code",
   "execution_count": null,
   "id": "2f943276-c0b9-4699-980e-6489137940f7",
   "metadata": {},
   "outputs": [],
   "source": [
    "# 2.3\n",
    "\n",
    "# plotting multiple density plot\n",
    "plt = df.Father.plot.density()\n",
    "plt = df.Mother.plot.density()"
   ]
  },
  {
   "cell_type": "code",
   "execution_count": null,
   "id": "2d7f9562-ecfd-456d-9cb8-08ffe2b5cf2c",
   "metadata": {},
   "outputs": [],
   "source": [
    "# 2.4\n",
    "df.Father.shape, df.Mother.shape\n",
    "X = np.array(df.Father).reshape(-1, 1)\n",
    "Y = np.array(df.Mother).reshape(-1, 1)"
   ]
  },
  {
   "cell_type": "code",
   "execution_count": null,
   "id": "8aefe979-8a95-4372-9ec1-b4199260e5fd",
   "metadata": {},
   "outputs": [],
   "source": [
    "reg = linear_model.LinearRegression().fit(X, Y)\n",
    "theta0 = reg.intercept_\n",
    "theta1 = reg.coef_\n",
    "reg.score(X, Y), theta1, theta0"
   ]
  },
  {
   "cell_type": "code",
   "execution_count": null,
   "id": "7a959d35-435b-42d7-99ce-6d0d93563f96",
   "metadata": {},
   "outputs": [],
   "source": [
    "y_pred = reg.predict(X)\n",
    "plt.scatter(X, Y, color ='b')\n",
    "plt.plot(X, y_pred, color ='k')\n",
    "plt.show()"
   ]
  },
  {
   "cell_type": "code",
   "execution_count": null,
   "id": "4e90f80c-8fa7-4fee-b73f-f35461ae0ceb",
   "metadata": {},
   "outputs": [],
   "source": [
    "# 2.5\n",
    "newdf = df[[\"Family\", \"Kids\"]]\n",
    "newdf = newdf.drop_duplicates(subset=\"Family\")\n",
    "newdf.hist('Kids')"
   ]
  },
  {
   "cell_type": "code",
   "execution_count": null,
   "id": "b88544e8-ebe1-491f-bb54-72e8265f05a0",
   "metadata": {},
   "outputs": [],
   "source": [
    "# 2.6\n",
    "df[\"Midparents\"] =  (df['Father']+ 1.08 * df['Mother'])/2\n",
    "df"
   ]
  },
  {
   "cell_type": "code",
   "execution_count": null,
   "id": "1b3a4772-2bd4-4cf2-8e19-8945a1d214e9",
   "metadata": {},
   "outputs": [],
   "source": [
    "# 2.7\n",
    "from sklearn.preprocessing import StandardScaler\n",
    "\n",
    "df.Midparents.shape, df.Height.shape\n",
    "\n",
    "X = np.array(df.Midparents).reshape(X.shape[0], 1)\n",
    "Y = np.array(df.Height).reshape(Y.shape[0],1)\n",
    "\n",
    "sc = StandardScaler()\n",
    "X_scaled = sc.fit(X)\n",
    "Y_scaled = sc.fit(Y)\n",
    "\n",
    "ones = np.ones(X.shape)\n",
    "Z_scaled = np.concatenate((ones, X), axis=1)\n",
    "Z_scaled\n",
    "\n",
    "X.shape, Y.shape, Z_scaled.shape"
   ]
  },
  {
   "cell_type": "code",
   "execution_count": null,
   "id": "13000a5e-f7fc-4528-9784-bf6d105f81b5",
   "metadata": {},
   "outputs": [],
   "source": [
    "reg = linear_model.LinearRegression().fit(Z_scaled, Y)\n",
    "theta0 = reg.intercept_\n",
    "theta1 = reg.coef_\n",
    "reg.score(Z_scaled, Y), theta1, theta0\n",
    "theta1, theta0"
   ]
  },
  {
   "cell_type": "code",
   "execution_count": null,
   "id": "4e1417ec-6311-4b15-945b-885b30ef5ea3",
   "metadata": {},
   "outputs": [],
   "source": [
    "y_pred = reg.predict(Z_scaled)\n",
    "plt.scatter(X, Y, color ='b')\n",
    "plt.plot(X, y_pred, color ='k')\n",
    "plt.show()"
   ]
  },
  {
   "cell_type": "code",
   "execution_count": null,
   "id": "79d96ad3-f713-440d-8796-0beda6776464",
   "metadata": {},
   "outputs": [],
   "source": [
    "xi = df.Midparents.to_numpy()\n",
    "yi = df.Height.to_numpy()\n",
    "x_ = df.Midparents.describe()['mean']\n",
    "y_ = df.Height.describe()['mean']"
   ]
  },
  {
   "cell_type": "code",
   "execution_count": null,
   "id": "a1799fcd-d26b-43f8-a413-2c5ca020afa8",
   "metadata": {},
   "outputs": [],
   "source": [
    "theta1_es = np.divide(np.sum(np.multiply(xi - x_, yi - y_)), np.sum(np.power(xi - x_,2)))\n",
    "theta1_es"
   ]
  },
  {
   "cell_type": "code",
   "execution_count": null,
   "id": "9df189f2-502a-45b3-8a1b-2dfdca93b70f",
   "metadata": {},
   "outputs": [],
   "source": [
    "theta0_es = y_ - theta1_es*x_\n",
    "theta0_es"
   ]
  },
  {
   "cell_type": "code",
   "execution_count": null,
   "id": "81d6bde6-1115-4997-96b7-733aef471066",
   "metadata": {},
   "outputs": [],
   "source": [
    "# 2.8\n",
    "ypred = []\n",
    "for i in range(len(xi)):\n",
    "    ypred.append(theta1_es*xi[i] + theta0_es)\n",
    "ypred\n",
    "plt.scatter(X,ypred)"
   ]
  },
  {
   "cell_type": "code",
   "execution_count": null,
   "id": "f97d32ef-8649-4bce-8a35-81b36314dc23",
   "metadata": {},
   "outputs": [],
   "source": [
    "df2=pd.DataFrame()\n",
    "df2[\"ypred\"]=ypred\n",
    "df=pd.concat([df,df2],axis=1)\n"
   ]
  },
  {
   "cell_type": "code",
   "execution_count": null,
   "id": "494e0eeb",
   "metadata": {},
   "outputs": [],
   "source": [
    "colors=np.where(df[\"Gender\"]==\"M\",'y','b')\n",
    "plt.scatter(X,ypred,c=colors)"
   ]
  }
 ],
 "metadata": {
  "kernelspec": {
   "display_name": "Python 3 (ipykernel)",
   "language": "python",
   "name": "python3"
  },
  "language_info": {
   "codemirror_mode": {
    "name": "ipython",
    "version": 3
   },
   "file_extension": ".py",
   "mimetype": "text/x-python",
   "name": "python",
   "nbconvert_exporter": "python",
   "pygments_lexer": "ipython3",
   "version": "3.9.7"
  }
 },
 "nbformat": 4,
 "nbformat_minor": 5
}
